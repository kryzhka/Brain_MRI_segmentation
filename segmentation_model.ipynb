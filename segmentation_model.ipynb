{
 "cells": [
  {
   "cell_type": "code",
   "execution_count": 42,
   "metadata": {},
   "outputs": [],
   "source": [
    "import pandas as pd\n",
    "import matplotlib.pyplot as plt\n",
    "import torch\n",
    "import torchvision as tv\n",
    "from PIL import Image\n",
    "import glob\n",
    "import os\n",
    "from tqdm import tqdm\n",
    "import cv2"
   ]
  },
  {
   "cell_type": "code",
   "execution_count": 43,
   "metadata": {},
   "outputs": [],
   "source": [
    "torch.cuda.is_available()\n",
    "device = 'cuda' if torch.cuda.is_available() else 'cpu'"
   ]
  },
  {
   "cell_type": "code",
   "execution_count": 44,
   "metadata": {},
   "outputs": [],
   "source": [
    "path='./data/kaggle_3m/data.csv'\n",
    "data=pd.read_csv(path)"
   ]
  },
  {
   "cell_type": "code",
   "execution_count": 45,
   "metadata": {},
   "outputs": [
    {
     "data": {
      "text/html": [
       "<div>\n",
       "<style scoped>\n",
       "    .dataframe tbody tr th:only-of-type {\n",
       "        vertical-align: middle;\n",
       "    }\n",
       "\n",
       "    .dataframe tbody tr th {\n",
       "        vertical-align: top;\n",
       "    }\n",
       "\n",
       "    .dataframe thead th {\n",
       "        text-align: right;\n",
       "    }\n",
       "</style>\n",
       "<table border=\"1\" class=\"dataframe\">\n",
       "  <thead>\n",
       "    <tr style=\"text-align: right;\">\n",
       "      <th></th>\n",
       "      <th>Patient</th>\n",
       "      <th>RNASeqCluster</th>\n",
       "      <th>MethylationCluster</th>\n",
       "      <th>miRNACluster</th>\n",
       "      <th>CNCluster</th>\n",
       "      <th>RPPACluster</th>\n",
       "      <th>OncosignCluster</th>\n",
       "      <th>COCCluster</th>\n",
       "      <th>histological_type</th>\n",
       "      <th>neoplasm_histologic_grade</th>\n",
       "      <th>tumor_tissue_site</th>\n",
       "      <th>laterality</th>\n",
       "      <th>tumor_location</th>\n",
       "      <th>gender</th>\n",
       "      <th>age_at_initial_pathologic</th>\n",
       "      <th>race</th>\n",
       "      <th>ethnicity</th>\n",
       "      <th>death01</th>\n",
       "    </tr>\n",
       "  </thead>\n",
       "  <tbody>\n",
       "    <tr>\n",
       "      <th>0</th>\n",
       "      <td>TCGA_CS_4941</td>\n",
       "      <td>2.0</td>\n",
       "      <td>4.0</td>\n",
       "      <td>2</td>\n",
       "      <td>2.0</td>\n",
       "      <td>NaN</td>\n",
       "      <td>3.0</td>\n",
       "      <td>2</td>\n",
       "      <td>1.0</td>\n",
       "      <td>2.0</td>\n",
       "      <td>1.0</td>\n",
       "      <td>3.0</td>\n",
       "      <td>2.0</td>\n",
       "      <td>2.0</td>\n",
       "      <td>67.0</td>\n",
       "      <td>3.0</td>\n",
       "      <td>2.0</td>\n",
       "      <td>1.0</td>\n",
       "    </tr>\n",
       "    <tr>\n",
       "      <th>1</th>\n",
       "      <td>TCGA_CS_4942</td>\n",
       "      <td>1.0</td>\n",
       "      <td>5.0</td>\n",
       "      <td>2</td>\n",
       "      <td>1.0</td>\n",
       "      <td>1.0</td>\n",
       "      <td>2.0</td>\n",
       "      <td>1</td>\n",
       "      <td>1.0</td>\n",
       "      <td>2.0</td>\n",
       "      <td>1.0</td>\n",
       "      <td>3.0</td>\n",
       "      <td>2.0</td>\n",
       "      <td>1.0</td>\n",
       "      <td>44.0</td>\n",
       "      <td>2.0</td>\n",
       "      <td>NaN</td>\n",
       "      <td>1.0</td>\n",
       "    </tr>\n",
       "    <tr>\n",
       "      <th>2</th>\n",
       "      <td>TCGA_CS_4943</td>\n",
       "      <td>1.0</td>\n",
       "      <td>5.0</td>\n",
       "      <td>2</td>\n",
       "      <td>1.0</td>\n",
       "      <td>2.0</td>\n",
       "      <td>2.0</td>\n",
       "      <td>1</td>\n",
       "      <td>1.0</td>\n",
       "      <td>2.0</td>\n",
       "      <td>1.0</td>\n",
       "      <td>1.0</td>\n",
       "      <td>2.0</td>\n",
       "      <td>2.0</td>\n",
       "      <td>37.0</td>\n",
       "      <td>3.0</td>\n",
       "      <td>NaN</td>\n",
       "      <td>0.0</td>\n",
       "    </tr>\n",
       "    <tr>\n",
       "      <th>3</th>\n",
       "      <td>TCGA_CS_4944</td>\n",
       "      <td>NaN</td>\n",
       "      <td>5.0</td>\n",
       "      <td>2</td>\n",
       "      <td>1.0</td>\n",
       "      <td>2.0</td>\n",
       "      <td>1.0</td>\n",
       "      <td>1</td>\n",
       "      <td>1.0</td>\n",
       "      <td>1.0</td>\n",
       "      <td>1.0</td>\n",
       "      <td>3.0</td>\n",
       "      <td>6.0</td>\n",
       "      <td>2.0</td>\n",
       "      <td>50.0</td>\n",
       "      <td>3.0</td>\n",
       "      <td>NaN</td>\n",
       "      <td>0.0</td>\n",
       "    </tr>\n",
       "    <tr>\n",
       "      <th>4</th>\n",
       "      <td>TCGA_CS_5393</td>\n",
       "      <td>4.0</td>\n",
       "      <td>5.0</td>\n",
       "      <td>2</td>\n",
       "      <td>1.0</td>\n",
       "      <td>2.0</td>\n",
       "      <td>3.0</td>\n",
       "      <td>1</td>\n",
       "      <td>1.0</td>\n",
       "      <td>2.0</td>\n",
       "      <td>1.0</td>\n",
       "      <td>1.0</td>\n",
       "      <td>6.0</td>\n",
       "      <td>2.0</td>\n",
       "      <td>39.0</td>\n",
       "      <td>3.0</td>\n",
       "      <td>NaN</td>\n",
       "      <td>0.0</td>\n",
       "    </tr>\n",
       "    <tr>\n",
       "      <th>...</th>\n",
       "      <td>...</td>\n",
       "      <td>...</td>\n",
       "      <td>...</td>\n",
       "      <td>...</td>\n",
       "      <td>...</td>\n",
       "      <td>...</td>\n",
       "      <td>...</td>\n",
       "      <td>...</td>\n",
       "      <td>...</td>\n",
       "      <td>...</td>\n",
       "      <td>...</td>\n",
       "      <td>...</td>\n",
       "      <td>...</td>\n",
       "      <td>...</td>\n",
       "      <td>...</td>\n",
       "      <td>...</td>\n",
       "      <td>...</td>\n",
       "      <td>...</td>\n",
       "    </tr>\n",
       "    <tr>\n",
       "      <th>105</th>\n",
       "      <td>TCGA_HT_8563</td>\n",
       "      <td>2.0</td>\n",
       "      <td>5.0</td>\n",
       "      <td>3</td>\n",
       "      <td>1.0</td>\n",
       "      <td>NaN</td>\n",
       "      <td>2.0</td>\n",
       "      <td>2</td>\n",
       "      <td>1.0</td>\n",
       "      <td>2.0</td>\n",
       "      <td>1.0</td>\n",
       "      <td>3.0</td>\n",
       "      <td>2.0</td>\n",
       "      <td>1.0</td>\n",
       "      <td>30.0</td>\n",
       "      <td>3.0</td>\n",
       "      <td>2.0</td>\n",
       "      <td>0.0</td>\n",
       "    </tr>\n",
       "    <tr>\n",
       "      <th>106</th>\n",
       "      <td>TCGA_HT_A5RC</td>\n",
       "      <td>2.0</td>\n",
       "      <td>4.0</td>\n",
       "      <td>2</td>\n",
       "      <td>2.0</td>\n",
       "      <td>NaN</td>\n",
       "      <td>3.0</td>\n",
       "      <td>2</td>\n",
       "      <td>1.0</td>\n",
       "      <td>2.0</td>\n",
       "      <td>1.0</td>\n",
       "      <td>1.0</td>\n",
       "      <td>2.0</td>\n",
       "      <td>1.0</td>\n",
       "      <td>70.0</td>\n",
       "      <td>3.0</td>\n",
       "      <td>2.0</td>\n",
       "      <td>1.0</td>\n",
       "    </tr>\n",
       "    <tr>\n",
       "      <th>107</th>\n",
       "      <td>TCGA_HT_A616</td>\n",
       "      <td>NaN</td>\n",
       "      <td>5.0</td>\n",
       "      <td>2</td>\n",
       "      <td>1.0</td>\n",
       "      <td>NaN</td>\n",
       "      <td>2.0</td>\n",
       "      <td>1</td>\n",
       "      <td>1.0</td>\n",
       "      <td>1.0</td>\n",
       "      <td>1.0</td>\n",
       "      <td>1.0</td>\n",
       "      <td>2.0</td>\n",
       "      <td>1.0</td>\n",
       "      <td>36.0</td>\n",
       "      <td>3.0</td>\n",
       "      <td>2.0</td>\n",
       "      <td>0.0</td>\n",
       "    </tr>\n",
       "    <tr>\n",
       "      <th>108</th>\n",
       "      <td>TCGA_HT_A61A</td>\n",
       "      <td>NaN</td>\n",
       "      <td>5.0</td>\n",
       "      <td>2</td>\n",
       "      <td>NaN</td>\n",
       "      <td>NaN</td>\n",
       "      <td>NaN</td>\n",
       "      <td>1</td>\n",
       "      <td>3.0</td>\n",
       "      <td>1.0</td>\n",
       "      <td>1.0</td>\n",
       "      <td>1.0</td>\n",
       "      <td>6.0</td>\n",
       "      <td>1.0</td>\n",
       "      <td>20.0</td>\n",
       "      <td>3.0</td>\n",
       "      <td>2.0</td>\n",
       "      <td>0.0</td>\n",
       "    </tr>\n",
       "    <tr>\n",
       "      <th>109</th>\n",
       "      <td>TCGA_HT_A61B</td>\n",
       "      <td>NaN</td>\n",
       "      <td>5.0</td>\n",
       "      <td>2</td>\n",
       "      <td>1.0</td>\n",
       "      <td>NaN</td>\n",
       "      <td>2.0</td>\n",
       "      <td>1</td>\n",
       "      <td>NaN</td>\n",
       "      <td>NaN</td>\n",
       "      <td>NaN</td>\n",
       "      <td>NaN</td>\n",
       "      <td>NaN</td>\n",
       "      <td>NaN</td>\n",
       "      <td>NaN</td>\n",
       "      <td>NaN</td>\n",
       "      <td>NaN</td>\n",
       "      <td>NaN</td>\n",
       "    </tr>\n",
       "  </tbody>\n",
       "</table>\n",
       "<p>110 rows × 18 columns</p>\n",
       "</div>"
      ],
      "text/plain": [
       "          Patient  RNASeqCluster  MethylationCluster  miRNACluster  CNCluster  \\\n",
       "0    TCGA_CS_4941            2.0                 4.0             2        2.0   \n",
       "1    TCGA_CS_4942            1.0                 5.0             2        1.0   \n",
       "2    TCGA_CS_4943            1.0                 5.0             2        1.0   \n",
       "3    TCGA_CS_4944            NaN                 5.0             2        1.0   \n",
       "4    TCGA_CS_5393            4.0                 5.0             2        1.0   \n",
       "..            ...            ...                 ...           ...        ...   \n",
       "105  TCGA_HT_8563            2.0                 5.0             3        1.0   \n",
       "106  TCGA_HT_A5RC            2.0                 4.0             2        2.0   \n",
       "107  TCGA_HT_A616            NaN                 5.0             2        1.0   \n",
       "108  TCGA_HT_A61A            NaN                 5.0             2        NaN   \n",
       "109  TCGA_HT_A61B            NaN                 5.0             2        1.0   \n",
       "\n",
       "     RPPACluster  OncosignCluster  COCCluster  histological_type  \\\n",
       "0            NaN              3.0           2                1.0   \n",
       "1            1.0              2.0           1                1.0   \n",
       "2            2.0              2.0           1                1.0   \n",
       "3            2.0              1.0           1                1.0   \n",
       "4            2.0              3.0           1                1.0   \n",
       "..           ...              ...         ...                ...   \n",
       "105          NaN              2.0           2                1.0   \n",
       "106          NaN              3.0           2                1.0   \n",
       "107          NaN              2.0           1                1.0   \n",
       "108          NaN              NaN           1                3.0   \n",
       "109          NaN              2.0           1                NaN   \n",
       "\n",
       "     neoplasm_histologic_grade  tumor_tissue_site  laterality  tumor_location  \\\n",
       "0                          2.0                1.0         3.0             2.0   \n",
       "1                          2.0                1.0         3.0             2.0   \n",
       "2                          2.0                1.0         1.0             2.0   \n",
       "3                          1.0                1.0         3.0             6.0   \n",
       "4                          2.0                1.0         1.0             6.0   \n",
       "..                         ...                ...         ...             ...   \n",
       "105                        2.0                1.0         3.0             2.0   \n",
       "106                        2.0                1.0         1.0             2.0   \n",
       "107                        1.0                1.0         1.0             2.0   \n",
       "108                        1.0                1.0         1.0             6.0   \n",
       "109                        NaN                NaN         NaN             NaN   \n",
       "\n",
       "     gender  age_at_initial_pathologic  race  ethnicity  death01  \n",
       "0       2.0                       67.0   3.0        2.0      1.0  \n",
       "1       1.0                       44.0   2.0        NaN      1.0  \n",
       "2       2.0                       37.0   3.0        NaN      0.0  \n",
       "3       2.0                       50.0   3.0        NaN      0.0  \n",
       "4       2.0                       39.0   3.0        NaN      0.0  \n",
       "..      ...                        ...   ...        ...      ...  \n",
       "105     1.0                       30.0   3.0        2.0      0.0  \n",
       "106     1.0                       70.0   3.0        2.0      1.0  \n",
       "107     1.0                       36.0   3.0        2.0      0.0  \n",
       "108     1.0                       20.0   3.0        2.0      0.0  \n",
       "109     NaN                        NaN   NaN        NaN      NaN  \n",
       "\n",
       "[110 rows x 18 columns]"
      ]
     },
     "execution_count": 45,
     "metadata": {},
     "output_type": "execute_result"
    }
   ],
   "source": [
    "data"
   ]
  },
  {
   "cell_type": "code",
   "execution_count": 46,
   "metadata": {},
   "outputs": [
    {
     "name": "stdout",
     "output_type": "stream",
     "text": [
      "./data/kaggle_3m\\data.csv\n",
      "./data/kaggle_3m\\README.md\n"
     ]
    },
    {
     "data": {
      "text/html": [
       "<div>\n",
       "<style scoped>\n",
       "    .dataframe tbody tr th:only-of-type {\n",
       "        vertical-align: middle;\n",
       "    }\n",
       "\n",
       "    .dataframe tbody tr th {\n",
       "        vertical-align: top;\n",
       "    }\n",
       "\n",
       "    .dataframe thead th {\n",
       "        text-align: right;\n",
       "    }\n",
       "</style>\n",
       "<table border=\"1\" class=\"dataframe\">\n",
       "  <thead>\n",
       "    <tr style=\"text-align: right;\">\n",
       "      <th></th>\n",
       "      <th>patient</th>\n",
       "      <th>x</th>\n",
       "      <th>y</th>\n",
       "    </tr>\n",
       "  </thead>\n",
       "  <tbody>\n",
       "    <tr>\n",
       "      <th>0</th>\n",
       "      <td>TCGA_CS_4941_19960909</td>\n",
       "      <td>./data/kaggle_3m\\TCGA_CS_4941_19960909/TCGA_CS...</td>\n",
       "      <td>./data/kaggle_3m\\TCGA_CS_4941_19960909/TCGA_CS...</td>\n",
       "    </tr>\n",
       "    <tr>\n",
       "      <th>1</th>\n",
       "      <td>TCGA_CS_4941_19960909</td>\n",
       "      <td>./data/kaggle_3m\\TCGA_CS_4941_19960909/TCGA_CS...</td>\n",
       "      <td>./data/kaggle_3m\\TCGA_CS_4941_19960909/TCGA_CS...</td>\n",
       "    </tr>\n",
       "    <tr>\n",
       "      <th>2</th>\n",
       "      <td>TCGA_CS_4941_19960909</td>\n",
       "      <td>./data/kaggle_3m\\TCGA_CS_4941_19960909/TCGA_CS...</td>\n",
       "      <td>./data/kaggle_3m\\TCGA_CS_4941_19960909/TCGA_CS...</td>\n",
       "    </tr>\n",
       "    <tr>\n",
       "      <th>3</th>\n",
       "      <td>TCGA_CS_4941_19960909</td>\n",
       "      <td>./data/kaggle_3m\\TCGA_CS_4941_19960909/TCGA_CS...</td>\n",
       "      <td>./data/kaggle_3m\\TCGA_CS_4941_19960909/TCGA_CS...</td>\n",
       "    </tr>\n",
       "    <tr>\n",
       "      <th>4</th>\n",
       "      <td>TCGA_CS_4941_19960909</td>\n",
       "      <td>./data/kaggle_3m\\TCGA_CS_4941_19960909/TCGA_CS...</td>\n",
       "      <td>./data/kaggle_3m\\TCGA_CS_4941_19960909/TCGA_CS...</td>\n",
       "    </tr>\n",
       "    <tr>\n",
       "      <th>...</th>\n",
       "      <td>...</td>\n",
       "      <td>...</td>\n",
       "      <td>...</td>\n",
       "    </tr>\n",
       "    <tr>\n",
       "      <th>3924</th>\n",
       "      <td>TCGA_HT_A61B_19991127</td>\n",
       "      <td>./data/kaggle_3m\\TCGA_HT_A61B_19991127/TCGA_HT...</td>\n",
       "      <td>./data/kaggle_3m\\TCGA_HT_A61B_19991127/TCGA_HT...</td>\n",
       "    </tr>\n",
       "    <tr>\n",
       "      <th>3925</th>\n",
       "      <td>TCGA_HT_A61B_19991127</td>\n",
       "      <td>./data/kaggle_3m\\TCGA_HT_A61B_19991127/TCGA_HT...</td>\n",
       "      <td>./data/kaggle_3m\\TCGA_HT_A61B_19991127/TCGA_HT...</td>\n",
       "    </tr>\n",
       "    <tr>\n",
       "      <th>3926</th>\n",
       "      <td>TCGA_HT_A61B_19991127</td>\n",
       "      <td>./data/kaggle_3m\\TCGA_HT_A61B_19991127/TCGA_HT...</td>\n",
       "      <td>./data/kaggle_3m\\TCGA_HT_A61B_19991127/TCGA_HT...</td>\n",
       "    </tr>\n",
       "    <tr>\n",
       "      <th>3927</th>\n",
       "      <td>TCGA_HT_A61B_19991127</td>\n",
       "      <td>./data/kaggle_3m\\TCGA_HT_A61B_19991127/TCGA_HT...</td>\n",
       "      <td>./data/kaggle_3m\\TCGA_HT_A61B_19991127/TCGA_HT...</td>\n",
       "    </tr>\n",
       "    <tr>\n",
       "      <th>3928</th>\n",
       "      <td>TCGA_HT_A61B_19991127</td>\n",
       "      <td>./data/kaggle_3m\\TCGA_HT_A61B_19991127/TCGA_HT...</td>\n",
       "      <td>./data/kaggle_3m\\TCGA_HT_A61B_19991127/TCGA_HT...</td>\n",
       "    </tr>\n",
       "  </tbody>\n",
       "</table>\n",
       "<p>3929 rows × 3 columns</p>\n",
       "</div>"
      ],
      "text/plain": [
       "                    patient  \\\n",
       "0     TCGA_CS_4941_19960909   \n",
       "1     TCGA_CS_4941_19960909   \n",
       "2     TCGA_CS_4941_19960909   \n",
       "3     TCGA_CS_4941_19960909   \n",
       "4     TCGA_CS_4941_19960909   \n",
       "...                     ...   \n",
       "3924  TCGA_HT_A61B_19991127   \n",
       "3925  TCGA_HT_A61B_19991127   \n",
       "3926  TCGA_HT_A61B_19991127   \n",
       "3927  TCGA_HT_A61B_19991127   \n",
       "3928  TCGA_HT_A61B_19991127   \n",
       "\n",
       "                                                      x  \\\n",
       "0     ./data/kaggle_3m\\TCGA_CS_4941_19960909/TCGA_CS...   \n",
       "1     ./data/kaggle_3m\\TCGA_CS_4941_19960909/TCGA_CS...   \n",
       "2     ./data/kaggle_3m\\TCGA_CS_4941_19960909/TCGA_CS...   \n",
       "3     ./data/kaggle_3m\\TCGA_CS_4941_19960909/TCGA_CS...   \n",
       "4     ./data/kaggle_3m\\TCGA_CS_4941_19960909/TCGA_CS...   \n",
       "...                                                 ...   \n",
       "3924  ./data/kaggle_3m\\TCGA_HT_A61B_19991127/TCGA_HT...   \n",
       "3925  ./data/kaggle_3m\\TCGA_HT_A61B_19991127/TCGA_HT...   \n",
       "3926  ./data/kaggle_3m\\TCGA_HT_A61B_19991127/TCGA_HT...   \n",
       "3927  ./data/kaggle_3m\\TCGA_HT_A61B_19991127/TCGA_HT...   \n",
       "3928  ./data/kaggle_3m\\TCGA_HT_A61B_19991127/TCGA_HT...   \n",
       "\n",
       "                                                      y  \n",
       "0     ./data/kaggle_3m\\TCGA_CS_4941_19960909/TCGA_CS...  \n",
       "1     ./data/kaggle_3m\\TCGA_CS_4941_19960909/TCGA_CS...  \n",
       "2     ./data/kaggle_3m\\TCGA_CS_4941_19960909/TCGA_CS...  \n",
       "3     ./data/kaggle_3m\\TCGA_CS_4941_19960909/TCGA_CS...  \n",
       "4     ./data/kaggle_3m\\TCGA_CS_4941_19960909/TCGA_CS...  \n",
       "...                                                 ...  \n",
       "3924  ./data/kaggle_3m\\TCGA_HT_A61B_19991127/TCGA_HT...  \n",
       "3925  ./data/kaggle_3m\\TCGA_HT_A61B_19991127/TCGA_HT...  \n",
       "3926  ./data/kaggle_3m\\TCGA_HT_A61B_19991127/TCGA_HT...  \n",
       "3927  ./data/kaggle_3m\\TCGA_HT_A61B_19991127/TCGA_HT...  \n",
       "3928  ./data/kaggle_3m\\TCGA_HT_A61B_19991127/TCGA_HT...  \n",
       "\n",
       "[3929 rows x 3 columns]"
      ]
     },
     "execution_count": 46,
     "metadata": {},
     "output_type": "execute_result"
    }
   ],
   "source": [
    "path='./data/kaggle_3m/'\n",
    "img_path=pd.DataFrame({'patient':[],'x':[],'y':[]})\n",
    "\n",
    "for sub_dir in glob.glob(path+'*'):\n",
    "    \n",
    "    try:\n",
    "        for filename in os.listdir(sub_dir):\n",
    "            if(not filename.__contains__('mask')):\n",
    "                img_path.loc[len(img_path.index)]=[sub_dir.split('\\\\')[-1],sub_dir+'/'+filename,sub_dir+'/'+filename.replace('.tif','_mask.tif')]\n",
    "            \n",
    "    except:\n",
    "        print(sub_dir)\n",
    "\n",
    "img_path"
   ]
  },
  {
   "cell_type": "code",
   "execution_count": 47,
   "metadata": {},
   "outputs": [],
   "source": [
    "transforms= tv.transforms.Compose([tv.transforms.ToTensor()])\n"
   ]
  },
  {
   "cell_type": "code",
   "execution_count": 48,
   "metadata": {},
   "outputs": [],
   "source": [
    "class MyDataset(torch.utils.data.Dataset):\n",
    "    def __init__(self,path_df,transforms=None):\n",
    "        self.data=path_df\n",
    "        self.transforms=transforms\n",
    "    def __len__(self):\n",
    "        return len(self.data['patient'])\n",
    "    \n",
    "    def __getitem__(self,idx):\n",
    "        x=Image.open(self.data['x'][idx])\n",
    "        y=Image.open(self.data['y'][idx])\n",
    "        #return x,y\n",
    "       \n",
    "        \n",
    "        if self.transforms:\n",
    "            return self.transforms(x), self.transforms(y)\n",
    "        else:\n",
    "            return x,y\n",
    "        "
   ]
  },
  {
   "cell_type": "code",
   "execution_count": 49,
   "metadata": {},
   "outputs": [
    {
     "data": {
      "text/plain": [
       "0       ./data/kaggle_3m\\TCGA_DU_5849_19950405/TCGA_DU...\n",
       "1       ./data/kaggle_3m\\TCGA_DU_5849_19950405/TCGA_DU...\n",
       "2       ./data/kaggle_3m\\TCGA_DU_5849_19950405/TCGA_DU...\n",
       "3       ./data/kaggle_3m\\TCGA_DU_5849_19950405/TCGA_DU...\n",
       "4       ./data/kaggle_3m\\TCGA_DU_5851_19950428/TCGA_DU...\n",
       "                              ...                        \n",
       "3532    ./data/kaggle_3m\\TCGA_HT_A61B_19991127/TCGA_HT...\n",
       "3533    ./data/kaggle_3m\\TCGA_HT_A61B_19991127/TCGA_HT...\n",
       "3534    ./data/kaggle_3m\\TCGA_HT_A61B_19991127/TCGA_HT...\n",
       "3535    ./data/kaggle_3m\\TCGA_HT_A61B_19991127/TCGA_HT...\n",
       "3536    ./data/kaggle_3m\\TCGA_HT_A61B_19991127/TCGA_HT...\n",
       "Name: y, Length: 3537, dtype: object"
      ]
     },
     "execution_count": 49,
     "metadata": {},
     "output_type": "execute_result"
    }
   ],
   "source": [
    "countOfRows=img_path.shape[0]\n",
    "trainData=img_path[countOfRows//10:countOfRows].reset_index(drop=True)\n",
    "testData=img_path[0:countOfRows//10].reset_index(drop=True)\n",
    "trainData['y']\n"
   ]
  },
  {
   "cell_type": "code",
   "execution_count": 50,
   "metadata": {},
   "outputs": [],
   "source": [
    "trainDataset=MyDataset(trainData,transforms)\n",
    "trainDataloader= torch.utils.data.DataLoader(trainDataset,batch_size=16)\n"
   ]
  },
  {
   "cell_type": "code",
   "execution_count": 51,
   "metadata": {},
   "outputs": [],
   "source": [
    "class CNA(torch.nn.Module):\n",
    "    def __init__(self,in_ch,out_ch):\n",
    "        super().__init__()\n",
    "        self.conv=torch.nn.Conv2d(in_ch,out_ch,kernel_size=3,padding=1)\n",
    "        self.norm=torch.nn.BatchNorm2d(out_ch)\n",
    "        self.act=torch.nn.ReLU()\n",
    "    def forward(self,x):\n",
    "        out=self.conv(x)\n",
    "        out=self.norm(out)\n",
    "        out=self.act(out)\n",
    "        return out\n"
   ]
  },
  {
   "cell_type": "code",
   "execution_count": 52,
   "metadata": {},
   "outputs": [],
   "source": [
    "class UNA(torch.nn.Module):\n",
    "    def __init__(self,in_ch,out_ch):\n",
    "        super().__init__()\n",
    "        self.upscale=torch.nn.ConvTranspose2d(in_ch,out_ch,kernel_size=2,padding=0,stride=2)\n",
    "        self.norm=torch.nn.BatchNorm2d(out_ch)\n",
    "        self.act=torch.nn.ReLU()\n",
    "    def forward(self,x):\n",
    "        #print(x.shape)\n",
    "        out=self.upscale(x)\n",
    "        out=self.norm(out)\n",
    "        out=self.act(out)\n",
    "        \n",
    "        return out\n"
   ]
  },
  {
   "cell_type": "code",
   "execution_count": 53,
   "metadata": {},
   "outputs": [],
   "source": [
    "class MySegmentationModel(torch.nn.Module):\n",
    "    def __init__(self):\n",
    "        super().__init__()\n",
    "        maxpool=torch.nn.MaxPool2d(2)\n",
    "        \n",
    "        cna1=CNA(3,64)\n",
    "        cna2=CNA(64,128)\n",
    "        cna3=CNA(128,256)\n",
    "        cna4=CNA(256,512)\n",
    "        cna5=CNA(512,1024)\n",
    "\n",
    "        una1=UNA(1024,512)\n",
    "        una2=UNA(512,256)\n",
    "        una3=UNA(256,128)\n",
    "        una4=UNA(128,64)\n",
    "        conv=torch.nn.Conv2d(64,1,kernel_size=1)\n",
    "\n",
    "        self.model=torch.nn.Sequential(\n",
    "            cna1,maxpool,\n",
    "            cna2,maxpool,\n",
    "            cna3,maxpool,\n",
    "            cna4,maxpool,\n",
    "            cna5,\n",
    "            una1,una2,una3,una4,conv\n",
    "        )\n",
    "    def forward(self,x):\n",
    "        return self.model(x)\n",
    "    \n",
    "model = MySegmentationModel()\n",
    "model=model.to(device)"
   ]
  },
  {
   "cell_type": "code",
   "execution_count": 54,
   "metadata": {},
   "outputs": [],
   "source": [
    "# model = torch.hub.load('mateuszbuda/brain-segmentation-pytorch', 'unet',\n",
    "#     in_channels=3, out_channels=1, init_features=32, pretrained=True)\n",
    "# model=model.to(device)"
   ]
  },
  {
   "cell_type": "code",
   "execution_count": 55,
   "metadata": {},
   "outputs": [],
   "source": [
    "class DiceLoss(torch.nn.Module):\n",
    "    def __init__(self, weight=None, size_average=True):\n",
    "        super(DiceLoss, self).__init__()\n",
    "\n",
    "    def forward(self, inputs, targets, smooth=1):\n",
    "        \n",
    "        #comment out if your model contains a sigmoid or equivalent activation layer\n",
    "        inputs = torch.nn.functional.sigmoid(inputs)       \n",
    "        \n",
    "        #flatten label and prediction tensors\n",
    "        inputs = inputs.view(-1)\n",
    "        targets = targets.view(-1)\n",
    "        \n",
    "        intersection = (inputs * targets).sum()                            \n",
    "        dice = (2.*intersection + smooth)/(inputs.sum() + targets.sum() + smooth)  \n",
    "        \n",
    "        return 1 - dice"
   ]
  },
  {
   "cell_type": "code",
   "execution_count": 56,
   "metadata": {},
   "outputs": [],
   "source": [
    "loss_fn = DiceLoss()\n",
    "optimizer=torch.optim.Adam(model.parameters(),lr=1e-4, betas=(0.9, 0.999))\n"
   ]
  },
  {
   "cell_type": "code",
   "execution_count": 57,
   "metadata": {},
   "outputs": [],
   "source": [
    "def get_accuracy(pred,label):\n",
    "    return "
   ]
  },
  {
   "cell_type": "code",
   "execution_count": 58,
   "metadata": {},
   "outputs": [],
   "source": [
    "def realCheck():\n",
    "\n",
    "    path=\".\\\\data\\\\kaggle_3m\\\\TCGA_CS_4942_19970222\\\\TCGA_CS_4942_19970222_10.tif\"\n",
    "    img=Image.open(path)\n",
    "    #display(img)\n",
    "    tensorImg=transforms(img)\n",
    "    batchImg=torch.unsqueeze(tensorImg,0)\n",
    "    batchImg=batchImg.to(device)\n",
    "    out=model(batchImg).cpu().detach().numpy()\n",
    "    out=out.squeeze(0)\n",
    "    print(out.shape)\n",
    "    # out=out.tolist()\n",
    "    transform = tv.transforms.ToPILImage()\n",
    "    \n",
    "    plt.imshow(out.transpose((1,2,0)))\n",
    "    path=\".\\\\data\\\\kaggle_3m\\\\TCGA_CS_4942_19970222\\\\TCGA_CS_4942_19970222_10_mask.tif\"\n",
    "    img=Image.open(path)\n",
    "    #display(img)\n"
   ]
  },
  {
   "cell_type": "code",
   "execution_count": 59,
   "metadata": {},
   "outputs": [],
   "source": [
    "#model = torch.load('.\\\\weightsOfmodel')"
   ]
  },
  {
   "cell_type": "code",
   "execution_count": 60,
   "metadata": {},
   "outputs": [
    {
     "name": "stdout",
     "output_type": "stream",
     "text": [
      "cuda\n"
     ]
    },
    {
     "name": "stderr",
     "output_type": "stream",
     "text": [
      "100%|██████████| 222/222 [00:41<00:00,  5.32it/s]\n"
     ]
    },
    {
     "name": "stdout",
     "output_type": "stream",
     "text": [
      "epoch 0\n",
      "loss= 0.9512924694263183 accruracy= 0.0\n"
     ]
    },
    {
     "name": "stderr",
     "output_type": "stream",
     "text": [
      "100%|██████████| 222/222 [00:40<00:00,  5.44it/s]\n"
     ]
    },
    {
     "name": "stdout",
     "output_type": "stream",
     "text": [
      "epoch 1\n",
      "loss= 0.9354158886918077 accruracy= 0.0\n"
     ]
    },
    {
     "name": "stderr",
     "output_type": "stream",
     "text": [
      "100%|██████████| 222/222 [00:40<00:00,  5.42it/s]\n"
     ]
    },
    {
     "name": "stdout",
     "output_type": "stream",
     "text": [
      "epoch 2\n",
      "loss= 0.9186875962459289 accruracy= 0.0\n"
     ]
    },
    {
     "name": "stderr",
     "output_type": "stream",
     "text": [
      "100%|██████████| 222/222 [00:40<00:00,  5.42it/s]\n"
     ]
    },
    {
     "name": "stdout",
     "output_type": "stream",
     "text": [
      "epoch 3\n",
      "loss= 0.8946076137525542 accruracy= 0.0\n"
     ]
    },
    {
     "name": "stderr",
     "output_type": "stream",
     "text": [
      "100%|██████████| 222/222 [00:40<00:00,  5.46it/s]\n"
     ]
    },
    {
     "name": "stdout",
     "output_type": "stream",
     "text": [
      "epoch 4\n",
      "loss= 0.8635576490883354 accruracy= 0.0\n"
     ]
    },
    {
     "name": "stderr",
     "output_type": "stream",
     "text": [
      "100%|██████████| 222/222 [00:40<00:00,  5.46it/s]\n"
     ]
    },
    {
     "name": "stdout",
     "output_type": "stream",
     "text": [
      "epoch 5\n",
      "loss= 0.8239411751966219 accruracy= 0.0\n"
     ]
    },
    {
     "name": "stderr",
     "output_type": "stream",
     "text": [
      "100%|██████████| 222/222 [00:40<00:00,  5.44it/s]\n"
     ]
    },
    {
     "name": "stdout",
     "output_type": "stream",
     "text": [
      "epoch 6\n",
      "loss= 0.7655533828713872 accruracy= 0.0\n"
     ]
    },
    {
     "name": "stderr",
     "output_type": "stream",
     "text": [
      "100%|██████████| 222/222 [00:40<00:00,  5.45it/s]\n"
     ]
    },
    {
     "name": "stdout",
     "output_type": "stream",
     "text": [
      "epoch 7\n",
      "loss= 0.7032775661429843 accruracy= 0.0\n"
     ]
    },
    {
     "name": "stderr",
     "output_type": "stream",
     "text": [
      "100%|██████████| 222/222 [00:40<00:00,  5.45it/s]\n"
     ]
    },
    {
     "name": "stdout",
     "output_type": "stream",
     "text": [
      "epoch 8\n",
      "loss= 0.6498646094455375 accruracy= 0.0\n"
     ]
    },
    {
     "name": "stderr",
     "output_type": "stream",
     "text": [
      "100%|██████████| 222/222 [00:40<00:00,  5.45it/s]\n"
     ]
    },
    {
     "name": "stdout",
     "output_type": "stream",
     "text": [
      "epoch 9\n",
      "loss= 0.600758310373839 accruracy= 0.0\n"
     ]
    },
    {
     "name": "stderr",
     "output_type": "stream",
     "text": [
      "100%|██████████| 222/222 [00:41<00:00,  5.41it/s]\n"
     ]
    },
    {
     "name": "stdout",
     "output_type": "stream",
     "text": [
      "epoch 10\n",
      "loss= 0.5632768498884665 accruracy= 0.0\n"
     ]
    },
    {
     "name": "stderr",
     "output_type": "stream",
     "text": [
      "100%|██████████| 222/222 [00:40<00:00,  5.42it/s]\n"
     ]
    },
    {
     "name": "stdout",
     "output_type": "stream",
     "text": [
      "epoch 11\n",
      "loss= 0.5375090802575017 accruracy= 0.0\n"
     ]
    },
    {
     "name": "stderr",
     "output_type": "stream",
     "text": [
      "100%|██████████| 222/222 [00:42<00:00,  5.26it/s]\n"
     ]
    },
    {
     "name": "stdout",
     "output_type": "stream",
     "text": [
      "epoch 12\n",
      "loss= 0.5079382894275425 accruracy= 0.0\n"
     ]
    },
    {
     "name": "stderr",
     "output_type": "stream",
     "text": [
      "100%|██████████| 222/222 [00:40<00:00,  5.45it/s]\n"
     ]
    },
    {
     "name": "stdout",
     "output_type": "stream",
     "text": [
      "epoch 13\n",
      "loss= 0.4872537510352092 accruracy= 0.0\n"
     ]
    },
    {
     "name": "stderr",
     "output_type": "stream",
     "text": [
      "100%|██████████| 222/222 [00:40<00:00,  5.46it/s]\n"
     ]
    },
    {
     "name": "stdout",
     "output_type": "stream",
     "text": [
      "epoch 14\n",
      "loss= 0.471831975219486 accruracy= 0.0\n"
     ]
    },
    {
     "name": "stderr",
     "output_type": "stream",
     "text": [
      "100%|██████████| 222/222 [00:40<00:00,  5.45it/s]\n"
     ]
    },
    {
     "name": "stdout",
     "output_type": "stream",
     "text": [
      "epoch 15\n",
      "loss= 0.45603372411684945 accruracy= 0.0\n"
     ]
    },
    {
     "name": "stderr",
     "output_type": "stream",
     "text": [
      "100%|██████████| 222/222 [00:40<00:00,  5.44it/s]\n"
     ]
    },
    {
     "name": "stdout",
     "output_type": "stream",
     "text": [
      "epoch 16\n",
      "loss= 0.446854375772648 accruracy= 0.0\n"
     ]
    },
    {
     "name": "stderr",
     "output_type": "stream",
     "text": [
      "100%|██████████| 222/222 [00:40<00:00,  5.46it/s]\n"
     ]
    },
    {
     "name": "stdout",
     "output_type": "stream",
     "text": [
      "epoch 17\n",
      "loss= 0.4404581216004518 accruracy= 0.0\n"
     ]
    },
    {
     "name": "stderr",
     "output_type": "stream",
     "text": [
      "100%|██████████| 222/222 [00:40<00:00,  5.46it/s]\n"
     ]
    },
    {
     "name": "stdout",
     "output_type": "stream",
     "text": [
      "epoch 18\n",
      "loss= 0.42229555802302315 accruracy= 0.0\n"
     ]
    },
    {
     "name": "stderr",
     "output_type": "stream",
     "text": [
      "100%|██████████| 222/222 [00:40<00:00,  5.46it/s]\n"
     ]
    },
    {
     "name": "stdout",
     "output_type": "stream",
     "text": [
      "epoch 19\n",
      "loss= 0.42188581018834503 accruracy= 0.0\n"
     ]
    },
    {
     "name": "stderr",
     "output_type": "stream",
     "text": [
      "100%|██████████| 222/222 [00:40<00:00,  5.46it/s]\n"
     ]
    },
    {
     "name": "stdout",
     "output_type": "stream",
     "text": [
      "epoch 20\n",
      "loss= 0.40141876807083954 accruracy= 0.0\n"
     ]
    },
    {
     "name": "stderr",
     "output_type": "stream",
     "text": [
      "100%|██████████| 222/222 [00:40<00:00,  5.45it/s]\n"
     ]
    },
    {
     "name": "stdout",
     "output_type": "stream",
     "text": [
      "epoch 21\n",
      "loss= 0.4142891998226578 accruracy= 0.0\n"
     ]
    },
    {
     "name": "stderr",
     "output_type": "stream",
     "text": [
      "100%|██████████| 222/222 [00:40<00:00,  5.43it/s]\n"
     ]
    },
    {
     "name": "stdout",
     "output_type": "stream",
     "text": [
      "epoch 22\n",
      "loss= 0.39539344568510315 accruracy= 0.0\n"
     ]
    },
    {
     "name": "stderr",
     "output_type": "stream",
     "text": [
      "100%|██████████| 222/222 [00:40<00:00,  5.42it/s]\n"
     ]
    },
    {
     "name": "stdout",
     "output_type": "stream",
     "text": [
      "epoch 23\n",
      "loss= 0.3986729936556773 accruracy= 0.0\n"
     ]
    },
    {
     "name": "stderr",
     "output_type": "stream",
     "text": [
      "100%|██████████| 222/222 [00:40<00:00,  5.42it/s]\n"
     ]
    },
    {
     "name": "stdout",
     "output_type": "stream",
     "text": [
      "epoch 24\n",
      "loss= 0.38940386487557005 accruracy= 0.0\n"
     ]
    },
    {
     "name": "stderr",
     "output_type": "stream",
     "text": [
      "100%|██████████| 222/222 [00:40<00:00,  5.44it/s]\n"
     ]
    },
    {
     "name": "stdout",
     "output_type": "stream",
     "text": [
      "epoch 25\n",
      "loss= 0.39578204783233434 accruracy= 0.0\n"
     ]
    },
    {
     "name": "stderr",
     "output_type": "stream",
     "text": [
      "100%|██████████| 222/222 [00:40<00:00,  5.46it/s]\n"
     ]
    },
    {
     "name": "stdout",
     "output_type": "stream",
     "text": [
      "epoch 26\n",
      "loss= 0.3872580289303719 accruracy= 0.0\n"
     ]
    },
    {
     "name": "stderr",
     "output_type": "stream",
     "text": [
      "100%|██████████| 222/222 [00:40<00:00,  5.46it/s]\n"
     ]
    },
    {
     "name": "stdout",
     "output_type": "stream",
     "text": [
      "epoch 27\n",
      "loss= 0.37858216236303516 accruracy= 0.0\n"
     ]
    },
    {
     "name": "stderr",
     "output_type": "stream",
     "text": [
      "100%|██████████| 222/222 [00:40<00:00,  5.45it/s]\n"
     ]
    },
    {
     "name": "stdout",
     "output_type": "stream",
     "text": [
      "epoch 28\n",
      "loss= 0.38053261750453227 accruracy= 0.0\n"
     ]
    },
    {
     "name": "stderr",
     "output_type": "stream",
     "text": [
      "100%|██████████| 222/222 [00:40<00:00,  5.46it/s]\n"
     ]
    },
    {
     "name": "stdout",
     "output_type": "stream",
     "text": [
      "epoch 29\n",
      "loss= 0.3677320214542183 accruracy= 0.0\n"
     ]
    },
    {
     "name": "stderr",
     "output_type": "stream",
     "text": [
      "100%|██████████| 222/222 [00:40<00:00,  5.46it/s]\n"
     ]
    },
    {
     "name": "stdout",
     "output_type": "stream",
     "text": [
      "epoch 30\n",
      "loss= 0.3566004558726474 accruracy= 0.0\n"
     ]
    },
    {
     "name": "stderr",
     "output_type": "stream",
     "text": [
      "100%|██████████| 222/222 [00:43<00:00,  5.13it/s]\n"
     ]
    },
    {
     "name": "stdout",
     "output_type": "stream",
     "text": [
      "epoch 31\n",
      "loss= 0.3546167362380672 accruracy= 0.0\n"
     ]
    },
    {
     "name": "stderr",
     "output_type": "stream",
     "text": [
      "100%|██████████| 222/222 [00:41<00:00,  5.39it/s]\n"
     ]
    },
    {
     "name": "stdout",
     "output_type": "stream",
     "text": [
      "epoch 32\n",
      "loss= 0.37622637711129747 accruracy= 0.0\n"
     ]
    },
    {
     "name": "stderr",
     "output_type": "stream",
     "text": [
      "100%|██████████| 222/222 [00:40<00:00,  5.46it/s]\n"
     ]
    },
    {
     "name": "stdout",
     "output_type": "stream",
     "text": [
      "epoch 33\n",
      "loss= 0.3670600647324914 accruracy= 0.0\n"
     ]
    },
    {
     "name": "stderr",
     "output_type": "stream",
     "text": [
      "100%|██████████| 222/222 [00:40<00:00,  5.47it/s]\n"
     ]
    },
    {
     "name": "stdout",
     "output_type": "stream",
     "text": [
      "epoch 34\n",
      "loss= 0.3727517707927807 accruracy= 0.0\n"
     ]
    },
    {
     "name": "stderr",
     "output_type": "stream",
     "text": [
      "100%|██████████| 222/222 [00:40<00:00,  5.46it/s]\n"
     ]
    },
    {
     "name": "stdout",
     "output_type": "stream",
     "text": [
      "epoch 35\n",
      "loss= 0.3835928426669525 accruracy= 0.0\n"
     ]
    },
    {
     "name": "stderr",
     "output_type": "stream",
     "text": [
      "100%|██████████| 222/222 [00:40<00:00,  5.46it/s]\n"
     ]
    },
    {
     "name": "stdout",
     "output_type": "stream",
     "text": [
      "epoch 36\n",
      "loss= 0.345479368358045 accruracy= 0.0\n"
     ]
    },
    {
     "name": "stderr",
     "output_type": "stream",
     "text": [
      "100%|██████████| 222/222 [00:40<00:00,  5.45it/s]\n"
     ]
    },
    {
     "name": "stdout",
     "output_type": "stream",
     "text": [
      "epoch 37\n",
      "loss= 0.43936301942344186 accruracy= 0.0\n"
     ]
    },
    {
     "name": "stderr",
     "output_type": "stream",
     "text": [
      "100%|██████████| 222/222 [00:40<00:00,  5.45it/s]\n"
     ]
    },
    {
     "name": "stdout",
     "output_type": "stream",
     "text": [
      "epoch 38\n",
      "loss= 0.325404585481764 accruracy= 0.0\n"
     ]
    },
    {
     "name": "stderr",
     "output_type": "stream",
     "text": [
      "100%|██████████| 222/222 [00:40<00:00,  5.45it/s]\n"
     ]
    },
    {
     "name": "stdout",
     "output_type": "stream",
     "text": [
      "epoch 39\n",
      "loss= 0.32250611255834766 accruracy= 0.0\n"
     ]
    },
    {
     "name": "stderr",
     "output_type": "stream",
     "text": [
      "100%|██████████| 222/222 [00:40<00:00,  5.44it/s]\n"
     ]
    },
    {
     "name": "stdout",
     "output_type": "stream",
     "text": [
      "epoch 40\n",
      "loss= 0.31677310128469727 accruracy= 0.0\n"
     ]
    },
    {
     "name": "stderr",
     "output_type": "stream",
     "text": [
      "100%|██████████| 222/222 [00:40<00:00,  5.44it/s]\n"
     ]
    },
    {
     "name": "stdout",
     "output_type": "stream",
     "text": [
      "epoch 41\n",
      "loss= 0.30938133543676083 accruracy= 0.0\n"
     ]
    },
    {
     "name": "stderr",
     "output_type": "stream",
     "text": [
      "100%|██████████| 222/222 [00:40<00:00,  5.46it/s]\n"
     ]
    },
    {
     "name": "stdout",
     "output_type": "stream",
     "text": [
      "epoch 42\n",
      "loss= 0.26385244404947433 accruracy= 0.0\n"
     ]
    },
    {
     "name": "stderr",
     "output_type": "stream",
     "text": [
      "100%|██████████| 222/222 [00:40<00:00,  5.46it/s]\n"
     ]
    },
    {
     "name": "stdout",
     "output_type": "stream",
     "text": [
      "epoch 43\n",
      "loss= 0.3290447412847399 accruracy= 0.0\n"
     ]
    },
    {
     "name": "stderr",
     "output_type": "stream",
     "text": [
      "100%|██████████| 222/222 [00:40<00:00,  5.46it/s]\n"
     ]
    },
    {
     "name": "stdout",
     "output_type": "stream",
     "text": [
      "epoch 44\n",
      "loss= 0.3799641309557734 accruracy= 0.0\n"
     ]
    },
    {
     "name": "stderr",
     "output_type": "stream",
     "text": [
      "100%|██████████| 222/222 [00:40<00:00,  5.45it/s]\n"
     ]
    },
    {
     "name": "stdout",
     "output_type": "stream",
     "text": [
      "epoch 45\n",
      "loss= 0.36729491347665183 accruracy= 0.0\n"
     ]
    },
    {
     "name": "stderr",
     "output_type": "stream",
     "text": [
      "100%|██████████| 222/222 [00:40<00:00,  5.47it/s]\n"
     ]
    },
    {
     "name": "stdout",
     "output_type": "stream",
     "text": [
      "epoch 46\n",
      "loss= 0.29490959375828235 accruracy= 0.0\n"
     ]
    },
    {
     "name": "stderr",
     "output_type": "stream",
     "text": [
      "100%|██████████| 222/222 [00:40<00:00,  5.47it/s]\n"
     ]
    },
    {
     "name": "stdout",
     "output_type": "stream",
     "text": [
      "epoch 47\n",
      "loss= 0.4668938665239661 accruracy= 0.0\n"
     ]
    },
    {
     "name": "stderr",
     "output_type": "stream",
     "text": [
      "100%|██████████| 222/222 [00:40<00:00,  5.45it/s]\n"
     ]
    },
    {
     "name": "stdout",
     "output_type": "stream",
     "text": [
      "epoch 48\n",
      "loss= 0.34027802246110933 accruracy= 0.0\n"
     ]
    },
    {
     "name": "stderr",
     "output_type": "stream",
     "text": [
      "100%|██████████| 222/222 [00:40<00:00,  5.46it/s]\n"
     ]
    },
    {
     "name": "stdout",
     "output_type": "stream",
     "text": [
      "epoch 49\n",
      "loss= 0.3682230678764549 accruracy= 0.0\n"
     ]
    },
    {
     "name": "stderr",
     "output_type": "stream",
     "text": [
      "100%|██████████| 222/222 [00:40<00:00,  5.47it/s]\n"
     ]
    },
    {
     "name": "stdout",
     "output_type": "stream",
     "text": [
      "epoch 50\n",
      "loss= 0.3402115162965414 accruracy= 0.0\n"
     ]
    },
    {
     "name": "stderr",
     "output_type": "stream",
     "text": [
      "100%|██████████| 222/222 [00:40<00:00,  5.46it/s]\n"
     ]
    },
    {
     "name": "stdout",
     "output_type": "stream",
     "text": [
      "epoch 51\n",
      "loss= 0.2829437771359006 accruracy= 0.0\n"
     ]
    },
    {
     "name": "stderr",
     "output_type": "stream",
     "text": [
      "100%|██████████| 222/222 [00:40<00:00,  5.47it/s]\n"
     ]
    },
    {
     "name": "stdout",
     "output_type": "stream",
     "text": [
      "epoch 52\n",
      "loss= 0.4286494362461674 accruracy= 0.0\n"
     ]
    },
    {
     "name": "stderr",
     "output_type": "stream",
     "text": [
      "100%|██████████| 222/222 [00:40<00:00,  5.46it/s]\n"
     ]
    },
    {
     "name": "stdout",
     "output_type": "stream",
     "text": [
      "epoch 53\n",
      "loss= 0.29750810362197255 accruracy= 0.0\n"
     ]
    },
    {
     "name": "stderr",
     "output_type": "stream",
     "text": [
      "100%|██████████| 222/222 [00:43<00:00,  5.12it/s]\n"
     ]
    },
    {
     "name": "stdout",
     "output_type": "stream",
     "text": [
      "epoch 54\n",
      "loss= 0.407576262145429 accruracy= 0.0\n"
     ]
    },
    {
     "name": "stderr",
     "output_type": "stream",
     "text": [
      "100%|██████████| 222/222 [00:43<00:00,  5.11it/s]\n"
     ]
    },
    {
     "name": "stdout",
     "output_type": "stream",
     "text": [
      "epoch 55\n",
      "loss= 0.38877742865064124 accruracy= 0.0\n"
     ]
    },
    {
     "name": "stderr",
     "output_type": "stream",
     "text": [
      "100%|██████████| 222/222 [00:43<00:00,  5.10it/s]\n"
     ]
    },
    {
     "name": "stdout",
     "output_type": "stream",
     "text": [
      "epoch 56\n",
      "loss= 0.2944387420340701 accruracy= 0.0\n"
     ]
    },
    {
     "name": "stderr",
     "output_type": "stream",
     "text": [
      "100%|██████████| 222/222 [00:43<00:00,  5.12it/s]\n"
     ]
    },
    {
     "name": "stdout",
     "output_type": "stream",
     "text": [
      "epoch 57\n",
      "loss= 0.2738240444445395 accruracy= 0.0\n"
     ]
    },
    {
     "name": "stderr",
     "output_type": "stream",
     "text": [
      "100%|██████████| 222/222 [00:43<00:00,  5.12it/s]\n"
     ]
    },
    {
     "name": "stdout",
     "output_type": "stream",
     "text": [
      "epoch 58\n",
      "loss= 0.4146593827922065 accruracy= 0.0\n"
     ]
    },
    {
     "name": "stderr",
     "output_type": "stream",
     "text": [
      "100%|██████████| 222/222 [00:43<00:00,  5.11it/s]"
     ]
    },
    {
     "name": "stdout",
     "output_type": "stream",
     "text": [
      "epoch 59\n",
      "loss= 0.2716431918444934 accruracy= 0.0\n"
     ]
    },
    {
     "name": "stderr",
     "output_type": "stream",
     "text": [
      "\n"
     ]
    }
   ],
   "source": [
    "print(device)\n",
    "epochs=60\n",
    "for epoch in range(epochs):\n",
    "    loss_val=0\n",
    "    acc_val=0\n",
    "\n",
    "    for sample in tqdm(trainDataloader):\n",
    "        img,label = sample\n",
    "        \n",
    "        label = label.to(device)\n",
    "        \n",
    "        img = img.to(device)\n",
    "        \n",
    "        optimizer.zero_grad()\n",
    "        pred = model(img)\n",
    "        \n",
    "        # print(pred.shape)\n",
    "        # print(label.shape)\n",
    "        loss = loss_fn(pred, label)\n",
    "        loss.backward()\n",
    "\n",
    "        optimizer.step()\n",
    "        \n",
    "        loss_val+=loss.item()\n",
    "        \n",
    "        # acc_val += get_accuracy(pred.cpu(), label.cpu())\n",
    "        \n",
    "    loss_val /= len(trainDataloader)\n",
    "    acc_val /= len(trainDataloader)\n",
    "    print(\"epoch\", epoch)\n",
    "    print(\"loss=\",loss_val ,\"accruracy=\",acc_val)\n",
    "    \n"
   ]
  },
  {
   "cell_type": "code",
   "execution_count": 61,
   "metadata": {},
   "outputs": [],
   "source": [
    "torch.save(model, '.\\\\weightsOfmodel')"
   ]
  },
  {
   "cell_type": "code",
   "execution_count": 62,
   "metadata": {},
   "outputs": [],
   "source": [
    "testDataset=MyDataset(testData,transforms)\n",
    "testDataloader= torch.utils.data.DataLoader(testDataset,batch_size=1)"
   ]
  },
  {
   "cell_type": "code",
   "execution_count": 63,
   "metadata": {},
   "outputs": [
    {
     "data": {
      "image/png": "[encoded data removed]",
      "text/plain": [
       "<PIL.TiffImagePlugin.TiffImageFile image mode=RGB size=256x256>"
      ]
     },
     "metadata": {},
     "output_type": "display_data"
    },
    {
     "name": "stdout",
     "output_type": "stream",
     "text": [
      "(1, 256, 256)\n"
     ]
    },
    {
     "data": {
      "image/png": "[encoded data removed]",
      "text/plain": [
       "<PIL.TiffImagePlugin.TiffImageFile image mode=L size=256x256>"
      ]
     },
     "metadata": {},
     "output_type": "display_data"
    },
    {
     "data": {
      "image/png": "[encoded data removed]",
      "text/plain": [
       "<Figure size 640x480 with 1 Axes>"
      ]
     },
     "metadata": {},
     "output_type": "display_data"
    }
   ],
   "source": [
    "def realCheck():\n",
    "\n",
    "    path=\".\\\\data\\\\kaggle_3m\\\\TCGA_CS_4942_19970222\\\\TCGA_CS_4942_19970222_10.tif\"\n",
    "    img=Image.open(path)\n",
    "    display(img)\n",
    "    tensorImg=transforms(img)\n",
    "    batchImg=torch.unsqueeze(tensorImg,0)\n",
    "    batchImg=batchImg.to(device)\n",
    "    out=model(batchImg).cpu().detach().numpy()\n",
    "    out=out.squeeze(0)\n",
    "    print(out.shape)\n",
    "    # out=out.tolist()\n",
    "    transform = tv.transforms.ToPILImage()\n",
    "    \n",
    "    plt.imshow(out.transpose((1,2,0)))\n",
    "    path=\".\\\\data\\\\kaggle_3m\\\\TCGA_CS_4942_19970222\\\\TCGA_CS_4942_19970222_10_mask.tif\"\n",
    "    img=Image.open(path)\n",
    "    display(img)\n",
    "realCheck()"
   ]
  }
 ],
 "metadata": {
  "kernelspec": {
   "display_name": "Python 3 (ipykernel)",
   "language": "python",
   "name": "python3"
  },
  "language_info": {
   "codemirror_mode": {
    "name": "ipython",
    "version": 3
   },
   "file_extension": ".py",
   "mimetype": "text/x-python",
   "name": "python",
   "nbconvert_exporter": "python",
   "pygments_lexer": "ipython3",
   "version": "3.10.9"
  },
  "orig_nbformat": 4
 },
 "nbformat": 4,
 "nbformat_minor": 2
}
